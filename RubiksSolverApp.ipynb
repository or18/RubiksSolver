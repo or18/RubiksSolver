{
  "nbformat": 4,
  "nbformat_minor": 0,
  "metadata": {
    "colab": {
      "provenance": [],
      "authorship_tag": "ABX9TyPbRUiqi07O4bFIXSXEq+Of",
      "include_colab_link": true
    },
    "kernelspec": {
      "name": "python3",
      "display_name": "Python 3"
    },
    "language_info": {
      "name": "python"
    }
  },
  "cells": [
    {
      "cell_type": "markdown",
      "metadata": {
        "id": "view-in-github",
        "colab_type": "text"
      },
      "source": [
        "<a href=\"https://colab.research.google.com/github/or18/RubiksSolver/blob/main/RubiksSolverApp.ipynb\" target=\"_parent\"><img src=\"https://colab.research.google.com/assets/colab-badge.svg\" alt=\"Open In Colab\"/></a>"
      ]
    },
    {
      "cell_type": "markdown",
      "source": [
        "#RubiksSolver web app\n",
        "###For the detail, please see https://github.com/or18/RubiksSolver"
      ],
      "metadata": {
        "id": "M4bDxsM47JoB"
      }
    },
    {
      "cell_type": "code",
      "source": [
        "#@title **Set up for Google Drive users (Recomended)**\n",
        "import os\n",
        "os.chdir('/content')\n",
        "\n",
        "!wget https://downloads.python.org/pypy/pypy3.10-v7.3.16-linux64.tar.bz2\n",
        "!tar -xf pypy3.10-v7.3.16-linux64.tar.bz2\n",
        "!rm pypy3.10-v7.3.16-linux64.tar.bz2\n",
        "os.environ['PATH']+=':/content/pypy3.10-v7.3.16-linux64/bin/'\n",
        "!pip install gradio\n",
        "!pip install subprocess\n",
        "\n",
        "from google.colab import drive\n",
        "import subprocess\n",
        "drive.mount('/content/drive')\n",
        "os.chdir('/content/drive/MyDrive')\n",
        "if not os.path.exists('/content/drive/MyDrive/RubiksSolver'):\n",
        "    subprocess.run(['git', 'clone', 'https://github.com/or18/RubiksSolver.git'])\n",
        "\n",
        "%cd /content/drive/MyDrive/RubiksSolver"
      ],
      "metadata": {
        "cellView": "form",
        "id": "E739Cq2K5673"
      },
      "execution_count": null,
      "outputs": []
    },
    {
      "cell_type": "code",
      "source": [
        "#@title **Setup for people who do not use google drive**\n",
        "\n",
        "import os\n",
        "os.chdir('/content')\n",
        "\n",
        "!wget https://downloads.python.org/pypy/pypy3.10-v7.3.16-linux64.tar.bz2\n",
        "!tar -xf pypy3.10-v7.3.16-linux64.tar.bz2\n",
        "!rm pypy3.10-v7.3.16-linux64.tar.bz2\n",
        "os.environ['PATH']+=':/content/pypy3.10-v7.3.16-linux64/bin/'\n",
        "!pip install gradio\n",
        "!pip install subprocess\n",
        "\n",
        "import subprocess\n",
        "if not os.path.exists('/content/RubiksSolver'):\n",
        "    subprocess.run(['git', 'clone', 'https://github.com/or18/RubiksSolver.git'])\n",
        "%cd /content/RubiksSolver"
      ],
      "metadata": {
        "cellView": "form",
        "id": "IqVx1_Fy-M96"
      },
      "execution_count": null,
      "outputs": []
    },
    {
      "cell_type": "code",
      "source": [
        "#@title **Launch App**\n",
        "#@markdown Run this code and obtain web app URL\n",
        "\n",
        "import RubiksSolver.solver as sv\n",
        "import gradio as gr\n",
        "import subprocess\n",
        "\n",
        "def run_solver(operation, scramble, rot, slot1, slot2, slot3, slot4, length, restrict):\n",
        "    if rot is None:\n",
        "        rot = \"N\"\n",
        "    if restrict is None:\n",
        "        restrict = \"UDLRFB\"\n",
        "    if length is None:\n",
        "        length=0\n",
        "    command = ['pypy3.10', 'solver_for_app.py', operation, str(scramble), str(rot), str(slot1), str(slot2), str(slot3), str(slot4), str(length), restrict]\n",
        "    result = subprocess.run(command, capture_output=True, text=True)\n",
        "    if result.returncode != 0:\n",
        "        print(\"Command failed with return code:\", result.returncode)\n",
        "    return result.stdout\n",
        "\n",
        "with gr.Blocks() as interface:\n",
        "    gr.Markdown(\"## RubiksSolver\")\n",
        "    operation = gr.Dropdown(choices=[\"F2L_solver\", \"LL_substep_solver\", \"LL_solver\", \"LL_AUF_solver\"], label=\"solver\", value=\"F2L_solver\")\n",
        "    scramble = gr.Textbox(label=\"scramble\", value=\"B' D L2 U F2 L2 U' B2 F2 D2 R2 B2 F R2 U2 R U2 B D L2 R'\")\n",
        "    rot = gr.Textbox(label=\"pre rotation\", value=\"z2\")\n",
        "    slot1 = gr.Dropdown(choices=[\"False\", \"True\"], label=\"solve BL slot/LL CP or not\", value=\"False\")\n",
        "    slot2 = gr.Dropdown(choices=[\"False\", \"True\"], label=\"solve BR slot/LL CO or not\", value=\"False\")\n",
        "    slot3 = gr.Dropdown(choices=[\"False\", \"True\"], label=\"solve FR slot/LL EP or not\", value=\"False\")\n",
        "    slot4 = gr.Dropdown(choices=[\"False\", \"True\"], label=\"solve FL slot/LL EO or not\", value=\"False\")\n",
        "    length = gr.Number(label=\"max length\", value=7)\n",
        "    restrict = gr.Textbox(label=\"move restriction\", value=\"UDLRFB\")\n",
        "    button = gr.Button(\"start search\")\n",
        "    output = gr.Textbox(label=\"output\")\n",
        "    button.click(run_solver, inputs=[operation, scramble, rot, slot1, slot2, slot3, slot4, length, restrict], outputs=output)\n",
        "\n",
        "interface.launch(share=True)\n"
      ],
      "metadata": {
        "cellView": "form",
        "id": "G5C0tAK92aKh"
      },
      "execution_count": null,
      "outputs": []
    }
  ]
}